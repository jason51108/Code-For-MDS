{
 "cells": [
  {
   "cell_type": "code",
   "execution_count": 1,
   "metadata": {},
   "outputs": [],
   "source": [
    "import numpy as np\n",
    "import os\n",
    "from scipy.special import expit\n",
    "from scipy.stats import norm"
   ]
  },
  {
   "cell_type": "code",
   "execution_count": 9,
   "metadata": {},
   "outputs": [],
   "source": [
    "# 寻找最优旋转\n",
    "def find_optimal_rotation_matrix(true_theta, pred_theta):\n",
    "    pred_theta = pred_theta - pred_theta.mean(axis=0) # 进行中心化\n",
    "    assert true_theta.shape == pred_theta.shape, \"Matrices must have the same shape\"\n",
    "    U, _, Vt = np.linalg.svd(pred_theta.T @ true_theta)\n",
    "    Q = Vt.T @ U.T \n",
    "    return Q\n",
    "\n",
    "# 对数似然函数的一阶导数\n",
    "def log_likelihood_first_derivative(A_ij, pi_ij):\n",
    "    return A_ij - expit(pi_ij)\n",
    "\n",
    "# 对数似然函数的二阶导数\n",
    "def log_likelihood_second_derivative(M):\n",
    "    sigma_ij = expit(M)\n",
    "    return sigma_ij * (sigma_ij - 1)\n",
    "\n",
    "# 生成M矩阵\n",
    "def generate_M_matrix(alphas, thetas):\n",
    "    n, r = thetas.shape\n",
    "    ones_n = np.ones((n, 1))\n",
    "\n",
    "    term1 = np.dot(ones_n, alphas.reshape(1, -1))\n",
    "    term2 = np.dot(alphas.reshape(-1, 1), ones_n.T)\n",
    "\n",
    "    M = term1 + term2 + thetas @ thetas.T\n",
    "    return M\n",
    "\n",
    "# 计算sigma_hat\n",
    "def compute_sigma_hat(i, M, Z, r=2):\n",
    "    sigma_hat_i = np.zeros((r + 1, r + 1))\n",
    "    for j in range(M.shape[0]):\n",
    "        if i != j:\n",
    "            h_j = np.append(Z[j], 1).reshape(-1, 1)\n",
    "            l_double_prime = log_likelihood_second_derivative(M[i, j])\n",
    "            sigma_hat_i += l_double_prime * h_j @ h_j.T\n",
    "    sigma_hat_i /= M.shape[0]\n",
    "    return sigma_hat_i\n",
    "\n",
    "# 计算指定的\\hat{\\Sigma}_i\n",
    "def compute_omega_hat(i, M, Z, A, r=2):\n",
    "    omega_hat_i = np.zeros((r + 1, r + 1))\n",
    "    for j in range(M.shape[0]):\n",
    "        if i != j:\n",
    "            h_j = np.append(Z[j], 1).reshape(-1, 1)\n",
    "            l_double_prime = log_likelihood_first_derivative(A[i,j], M[i,j])**2\n",
    "            omega_hat_i += l_double_prime * h_j @ h_j.T\n",
    "    omega_hat_i /= M.shape[0]\n",
    "    return omega_hat_i"
   ]
  },
  {
   "cell_type": "markdown",
   "metadata": {},
   "source": [
    "#### 计算样本协方差矩阵"
   ]
  },
  {
   "cell_type": "code",
   "execution_count": 10,
   "metadata": {},
   "outputs": [
    {
     "data": {
      "text/plain": [
       "array([[ 9.11285147e-03,  5.42220120e-04,  1.50342883e-04],\n",
       "       [ 5.42220120e-04,  1.00306871e-02, -5.75818208e-07],\n",
       "       [ 1.50342883e-04, -5.75818208e-07,  9.84990637e-03]])"
      ]
     },
     "execution_count": 10,
     "metadata": {},
     "output_type": "execute_result"
    }
   ],
   "source": [
    "number = 500\n",
    "base_folder = r'/home/user/CYH/Code_For_MDS/Project/para_result/parameter estimation/inner-product/Binomial/Simulation10000_2_1.0relative_1e-08'\n",
    "\n",
    "true_theta = np.load(base_folder + f'/n_{number}/1/true_theta.npy')\n",
    "r = 2\n",
    "H = []\n",
    "path_ = base_folder + f'/n_{number}/'\n",
    "for _ in range(1,len(os.listdir(path_ ))+1):\n",
    "    pred_alpha = np.load(path_+f'/{_}/pred_alpha.npy')\n",
    "    pred_theta = np.load(path_+f'/{_}/pred_theta.npy')\n",
    "    Q = find_optimal_rotation_matrix(true_theta, pred_theta)\n",
    "    pred_theta = pred_theta @ Q.T\n",
    "\n",
    "    H_temp = np.hstack((pred_theta, pred_alpha.reshape(-1,1)))\n",
    "    H.append(H_temp[0])\n",
    "H = np.array(H)\n",
    "true_matrix = np.cov(H, rowvar=False)\n",
    "true_matrix"
   ]
  },
  {
   "cell_type": "markdown",
   "metadata": {},
   "source": [
    "#### 计算sandwich的值"
   ]
  },
  {
   "cell_type": "code",
   "execution_count": 11,
   "metadata": {},
   "outputs": [],
   "source": [
    "haha = {}\n",
    "for _ in range(1,201):\n",
    "    A = np.load(base_folder + f'/n_{number}/{_}/adjacency_matrix.npy')\n",
    "    pred_alpha = np.load(base_folder + f'/n_{number}/{_}/pred_alpha.npy')\n",
    "    pred_theta = np.load(base_folder + f'/n_{number}/{_}/pred_theta.npy')\n",
    "    Q = find_optimal_rotation_matrix(true_theta, pred_theta)\n",
    "    pred_theta = pred_theta @ Q.T\n",
    "\n",
    "    M = generate_M_matrix(pred_alpha, pred_theta)\n",
    "    Z = pred_theta\n",
    "\n",
    "    left =compute_sigma_hat(0, M, Z)\n",
    "    mid = compute_omega_hat(0, M, Z, A)\n",
    "    a = np.linalg.inv(left)\n",
    "    sandwich = a@mid@a\n",
    "\n",
    "    \n",
    "    haha[_] = np.sum(np.abs(sandwich/number - true_matrix))"
   ]
  },
  {
   "cell_type": "code",
   "execution_count": 12,
   "metadata": {},
   "outputs": [
    {
     "data": {
      "text/plain": [
       "(191, 188)"
      ]
     },
     "execution_count": 12,
     "metadata": {},
     "output_type": "execute_result"
    }
   ],
   "source": [
    "# 找寻表现最好的值\n",
    "min_key = min(haha, key=haha.get)\n",
    "max_key = max(haha, key=haha.get)\n",
    "min_key, max_key"
   ]
  },
  {
   "cell_type": "code",
   "execution_count": 13,
   "metadata": {},
   "outputs": [
    {
     "data": {
      "text/plain": [
       "array([[ 9.84378817e-03,  2.64818534e-04,  1.19784448e-04],\n",
       "       [ 2.64818534e-04,  1.02383525e-02, -1.55657977e-05],\n",
       "       [ 1.19784448e-04, -1.55657977e-05,  8.61146571e-03]])"
      ]
     },
     "execution_count": 13,
     "metadata": {},
     "output_type": "execute_result"
    }
   ],
   "source": [
    "_ = 191\n",
    "A = np.load(base_folder + f'/n_{number}/{_}/adjacency_matrix.npy')\n",
    "pred_alpha = np.load(base_folder + f'/n_{number}/{_}/pred_alpha.npy')\n",
    "pred_theta = np.load(base_folder + f'/n_{number}/{_}/pred_theta.npy')\n",
    "Q = find_optimal_rotation_matrix(true_theta, pred_theta)\n",
    "pred_theta = pred_theta @ Q.T\n",
    "\n",
    "M = generate_M_matrix(pred_alpha, pred_theta)\n",
    "Z = pred_theta\n",
    "\n",
    "left =compute_sigma_hat(0, M, Z)\n",
    "mid = compute_omega_hat(0, M, Z, A)\n",
    "a = np.linalg.inv(left)\n",
    "sandwich = a@mid@a\n",
    "sandwich/number"
   ]
  },
  {
   "cell_type": "markdown",
   "metadata": {},
   "source": [
    "#### coverage rates"
   ]
  },
  {
   "cell_type": "code",
   "execution_count": null,
   "metadata": {},
   "outputs": [],
   "source": [
    "def calculate_sandwich(base_path):\n",
    "    A = np.load(f'{base_path}/adjacency_matrix.npy')\n",
    "    pred_alpha = np.load(f'{base_path}/pred_alpha.npy')\n",
    "    pred_theta = np.load(f'{base_path}/pred_theta.npy')\n",
    "    true_alpha = np.load(f'{base_path}/true_alpha.npy')\n",
    "    true_theta = np.load(f'{base_path}/true_theta.npy')\n",
    "    \n",
    "    Q = find_optimal_rotation_matrix(true_theta, pred_theta)\n",
    "    pred_theta = pred_theta @ Q.T\n",
    "\n",
    "    M = generate_M_matrix(pred_alpha, pred_theta)\n",
    "\n",
    "    sigma_hat = compute_sigma_hat(0, M, pred_theta)\n",
    "    omega_hat = compute_omega_hat(0, M, pred_theta, A)\n",
    "    a = np.linalg.inv(sigma_hat)\n",
    "    sandwich = a @ omega_hat @ a\n",
    "    sandwich = sandwich/pred_theta.shape[0]\n",
    "\n",
    "    return sandwich[0][0], pred_theta[0][0], true_theta[0][0]\n",
    "\n",
    "def check_confidence_interval(base_path):\n",
    "    var_estimate, pred_estimate, true_value = calculate_sandwich(base_path)\n",
    "    standard_error = np.sqrt(var_estimate)\n",
    "    \n",
    "    z_score = norm.ppf(0.975)\n",
    "    lower_bound = pred_estimate - z_score * standard_error\n",
    "    upper_bound = pred_estimate + z_score * standard_error\n",
    "    \n",
    "    is_within_interval = lower_bound <= true_value <= upper_bound\n",
    "    \n",
    "    return is_within_interval\n",
    "\n",
    "# coverage rates \n",
    "base_folder = r'/home/user/CYH/Code_For_MDS/Project/para_result/parameter estimation/inner-product/Binomial/Simulation10000_2_1.0relative_1e-08'\n",
    "n_values = sorted([int(i.split('_')[-1]) for i in os.listdir(base_folder) if i.startswith('n_')])\n",
    "coverage_dict = {}\n",
    "\n",
    "for number in n_values:\n",
    "    path = os.path.join(base_folder, f'n_{number}')\n",
    "    __ = 0\n",
    "    for _ in range(len(os.listdir(path))):\n",
    "        if check_confidence_interval(path+f'/{_+1}'):\n",
    "            __ += 1\n",
    "    coverage_dict[number] = __/len(os.listdir(path))\n",
    "    \n",
    "coverage_dict"
   ]
  }
 ],
 "metadata": {
  "kernelspec": {
   "display_name": "base",
   "language": "python",
   "name": "python3"
  },
  "language_info": {
   "codemirror_mode": {
    "name": "ipython",
    "version": 3
   },
   "file_extension": ".py",
   "mimetype": "text/x-python",
   "name": "python",
   "nbconvert_exporter": "python",
   "pygments_lexer": "ipython3",
   "version": "3.11.7"
  }
 },
 "nbformat": 4,
 "nbformat_minor": 2
}
