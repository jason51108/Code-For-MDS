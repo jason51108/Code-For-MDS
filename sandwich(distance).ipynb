{
 "cells": [
  {
   "cell_type": "code",
   "execution_count": 15,
   "metadata": {},
   "outputs": [],
   "source": [
    "import numpy as np\n",
    "import os\n",
    "from scipy.special import expit\n",
    "from scipy.stats import norm"
   ]
  },
  {
   "cell_type": "code",
   "execution_count": 16,
   "metadata": {},
   "outputs": [],
   "source": [
    "# 寻找最优旋转\n",
    "def find_optimal_rotation_matrix(true_theta, pred_theta):\n",
    "    pred_theta = pred_theta - pred_theta.mean(axis=0) # 进行中心化\n",
    "    assert true_theta.shape == pred_theta.shape, \"Matrices must have the same shape\"\n",
    "    U, _, Vt = np.linalg.svd(pred_theta.T @ true_theta)\n",
    "    Q = Vt.T @ U.T \n",
    "    return Q\n",
    "\n",
    "# 对数似然函数的一阶导数\n",
    "def log_likelihood_first_derivative(A_ij, pi_ij):\n",
    "    return A_ij - expit(pi_ij)\n",
    "\n",
    "# 对数似然函数的二阶导数\n",
    "def log_likelihood_second_derivative(M):\n",
    "    sigma_ij = expit(M)\n",
    "    return sigma_ij * (sigma_ij - 1)\n",
    "\n",
    "# 计算距离\n",
    "def Distance_matrix(Theta):\n",
    "    diff = Theta[:, np.newaxis, :] - Theta[np.newaxis, :, :]\n",
    "    D = np.sum(diff**2, axis=2)\n",
    "    return D\n",
    "\n",
    "# 生成M矩阵\n",
    "def generate_M_matrix(thetas, rho=0):\n",
    "    M = rho-Distance_matrix(thetas)\n",
    "    return M\n",
    "\n",
    "# 计算\\hat{\\sigma}_i\n",
    "def compute_sigma_hat(i, M, Z, r=2):\n",
    "    sigma_hat_i = np.zeros((r, r))\n",
    "    for j in range(M.shape[0]):\n",
    "        if i != j:\n",
    "            h_i = Z[i].reshape(-1, 1)\n",
    "            h_j = Z[j].reshape(-1, 1)\n",
    "            l_double_prime = log_likelihood_second_derivative(M[i, j])\n",
    "            sigma_hat_i += 4 * l_double_prime * (h_j-h_i) @ (h_j-h_i).T\n",
    "    sigma_hat_i /= M.shape[0]\n",
    "    return sigma_hat_i\n",
    "\n",
    "# 计算指定的\\hat{\\Omega}_i\n",
    "def compute_omega_hat(i, M, Z, A, r=2):\n",
    "    omega_hat_i = np.zeros((r, r))\n",
    "    for j in range(M.shape[0]):\n",
    "        if i != j:\n",
    "            h_i = Z[i].reshape(-1, 1)\n",
    "            h_j = Z[j].reshape(-1, 1)\n",
    "            l_double_prime = log_likelihood_first_derivative(A[i,j], M[i,j])**2\n",
    "            omega_hat_i += 4 * l_double_prime *  (h_j-h_i) @ (h_j-h_i).T\n",
    "    omega_hat_i /= M.shape[0]\n",
    "    return omega_hat_i"
   ]
  },
  {
   "cell_type": "markdown",
   "metadata": {},
   "source": [
    "#### 计算样本协方差矩阵"
   ]
  },
  {
   "cell_type": "code",
   "execution_count": 17,
   "metadata": {},
   "outputs": [
    {
     "data": {
      "text/plain": [
       "array([[8.67644404e-03, 9.97118081e-05],\n",
       "       [9.97118081e-05, 7.48495418e-03]])"
      ]
     },
     "execution_count": 17,
     "metadata": {},
     "output_type": "execute_result"
    }
   ],
   "source": [
    "number = 500\n",
    "base_folder = r'/home/user/CYH/Code_For_MDS/Project/para_result/parameter estimation/distance1/Binomial/Simulation10000_2_1.0relative_1e-08'\n",
    "true_theta = np.load(base_folder + f'/n_{number}/1/true_theta.npy')\n",
    "\n",
    "r = 2\n",
    "H = []\n",
    "path_ = base_folder + f'/n_{number}/'\n",
    "for _ in range(1,len(os.listdir(path_ ))+1):\n",
    "    pred_theta = np.load(path_+f'/{_}/pred_theta.npy')\n",
    "    Q = find_optimal_rotation_matrix(true_theta, pred_theta)\n",
    "    pred_theta = pred_theta @ Q.T\n",
    "    H.append(pred_theta[0])\n",
    "H = np.array(H)\n",
    "true_matrix = np.cov(H, rowvar=False)\n",
    "true_matrix"
   ]
  },
  {
   "cell_type": "markdown",
   "metadata": {},
   "source": [
    "#### 计算sandwich的值"
   ]
  },
  {
   "cell_type": "code",
   "execution_count": 18,
   "metadata": {},
   "outputs": [],
   "source": [
    "haha = {}\n",
    "for _ in range(1,201):\n",
    "    A = np.load(base_folder + f'/n_{number}/{_}/adjacency_matrix.npy')\n",
    "    pred_theta = np.load(base_folder + f'/n_{number}/{_}/pred_theta.npy')\n",
    "    Q = find_optimal_rotation_matrix(true_theta, pred_theta)\n",
    "    pred_theta = pred_theta @ Q.T\n",
    "    M = generate_M_matrix(pred_theta)\n",
    "\n",
    "    left =compute_sigma_hat(0, M, pred_theta)\n",
    "    mid = compute_omega_hat(0, M, pred_theta, A)\n",
    "    a = np.linalg.inv(left)\n",
    "    sandwich = a@mid@a\n",
    "\n",
    "    \n",
    "    haha[_] = np.sum(np.abs(sandwich/number - true_matrix))"
   ]
  },
  {
   "cell_type": "code",
   "execution_count": 19,
   "metadata": {},
   "outputs": [
    {
     "data": {
      "text/plain": [
       "(179, 30)"
      ]
     },
     "execution_count": 19,
     "metadata": {},
     "output_type": "execute_result"
    }
   ],
   "source": [
    "# 找寻表现最好的值\n",
    "min_key = min(haha, key=haha.get)\n",
    "max_key = max(haha, key=haha.get)\n",
    "min_key, max_key"
   ]
  },
  {
   "cell_type": "code",
   "execution_count": 20,
   "metadata": {},
   "outputs": [
    {
     "data": {
      "text/plain": [
       "array([[8.49474058e-03, 6.19492030e-05],\n",
       "       [6.19492030e-05, 7.30893440e-03]])"
      ]
     },
     "execution_count": 20,
     "metadata": {},
     "output_type": "execute_result"
    }
   ],
   "source": [
    "_ = 179\n",
    "A = np.load(base_folder + f'/n_{number}/{_}/adjacency_matrix.npy')\n",
    "pred_theta = np.load(base_folder + f'/n_{number}/{_}/pred_theta.npy')\n",
    "Q = find_optimal_rotation_matrix(true_theta, pred_theta)\n",
    "pred_theta = pred_theta @ Q.T\n",
    "M = generate_M_matrix(pred_theta)\n",
    "\n",
    "left =compute_sigma_hat(0, M, pred_theta)\n",
    "mid = compute_omega_hat(0, M, pred_theta, A)\n",
    "a = np.linalg.inv(left)\n",
    "sandwich = a@mid@a\n",
    "sandwich/number"
   ]
  },
  {
   "cell_type": "markdown",
   "metadata": {},
   "source": [
    "#### coverage rates"
   ]
  },
  {
   "cell_type": "code",
   "execution_count": 21,
   "metadata": {},
   "outputs": [
    {
     "ename": "KeyboardInterrupt",
     "evalue": "",
     "output_type": "error",
     "traceback": [
      "\u001b[0;31m---------------------------------------------------------------------------\u001b[0m",
      "\u001b[0;31mKeyboardInterrupt\u001b[0m                         Traceback (most recent call last)",
      "Cell \u001b[0;32mIn[21], line 40\u001b[0m\n\u001b[1;32m     38\u001b[0m __ \u001b[38;5;241m=\u001b[39m \u001b[38;5;241m0\u001b[39m\n\u001b[1;32m     39\u001b[0m \u001b[38;5;28;01mfor\u001b[39;00m _ \u001b[38;5;129;01min\u001b[39;00m \u001b[38;5;28mrange\u001b[39m(\u001b[38;5;28mlen\u001b[39m(os\u001b[38;5;241m.\u001b[39mlistdir(path))):\n\u001b[0;32m---> 40\u001b[0m     \u001b[38;5;28;01mif\u001b[39;00m check_confidence_interval(path\u001b[38;5;241m+\u001b[39m\u001b[38;5;124mf\u001b[39m\u001b[38;5;124m'\u001b[39m\u001b[38;5;124m/\u001b[39m\u001b[38;5;132;01m{\u001b[39;00m_\u001b[38;5;241m+\u001b[39m\u001b[38;5;241m1\u001b[39m\u001b[38;5;132;01m}\u001b[39;00m\u001b[38;5;124m'\u001b[39m):\n\u001b[1;32m     41\u001b[0m         __ \u001b[38;5;241m+\u001b[39m\u001b[38;5;241m=\u001b[39m \u001b[38;5;241m1\u001b[39m\n\u001b[1;32m     42\u001b[0m coverage_dict[number] \u001b[38;5;241m=\u001b[39m __\u001b[38;5;241m/\u001b[39m\u001b[38;5;28mlen\u001b[39m(os\u001b[38;5;241m.\u001b[39mlistdir(path))\n",
      "Cell \u001b[0;32mIn[21], line 20\u001b[0m, in \u001b[0;36mcheck_confidence_interval\u001b[0;34m(base_path)\u001b[0m\n\u001b[1;32m     19\u001b[0m \u001b[38;5;28;01mdef\u001b[39;00m \u001b[38;5;21mcheck_confidence_interval\u001b[39m(base_path):\n\u001b[0;32m---> 20\u001b[0m     var_estimate, pred_estimate, true_value \u001b[38;5;241m=\u001b[39m calculate_sandwich(base_path)\n\u001b[1;32m     21\u001b[0m     standard_error \u001b[38;5;241m=\u001b[39m np\u001b[38;5;241m.\u001b[39msqrt(var_estimate)\n\u001b[1;32m     23\u001b[0m     z_score \u001b[38;5;241m=\u001b[39m norm\u001b[38;5;241m.\u001b[39mppf(\u001b[38;5;241m0.975\u001b[39m)\n",
      "Cell \u001b[0;32mIn[21], line 9\u001b[0m, in \u001b[0;36mcalculate_sandwich\u001b[0;34m(base_path)\u001b[0m\n\u001b[1;32m      6\u001b[0m Q \u001b[38;5;241m=\u001b[39m find_optimal_rotation_matrix(true_theta, pred_theta)\n\u001b[1;32m      7\u001b[0m pred_theta \u001b[38;5;241m=\u001b[39m pred_theta \u001b[38;5;241m@\u001b[39m Q\u001b[38;5;241m.\u001b[39mT\n\u001b[0;32m----> 9\u001b[0m M \u001b[38;5;241m=\u001b[39m generate_M_matrix(pred_theta)\n\u001b[1;32m     11\u001b[0m sigma_hat \u001b[38;5;241m=\u001b[39m compute_sigma_hat(\u001b[38;5;241m0\u001b[39m, M, pred_theta)\n\u001b[1;32m     12\u001b[0m omega_hat \u001b[38;5;241m=\u001b[39m compute_omega_hat(\u001b[38;5;241m0\u001b[39m, M, pred_theta, A)\n",
      "Cell \u001b[0;32mIn[16], line 26\u001b[0m, in \u001b[0;36mgenerate_M_matrix\u001b[0;34m(thetas, rho)\u001b[0m\n\u001b[1;32m     25\u001b[0m \u001b[38;5;28;01mdef\u001b[39;00m \u001b[38;5;21mgenerate_M_matrix\u001b[39m(thetas, rho\u001b[38;5;241m=\u001b[39m\u001b[38;5;241m0\u001b[39m):\n\u001b[0;32m---> 26\u001b[0m     M \u001b[38;5;241m=\u001b[39m rho\u001b[38;5;241m-\u001b[39mDistance_matrix(thetas)\n\u001b[1;32m     27\u001b[0m     \u001b[38;5;28;01mreturn\u001b[39;00m M\n",
      "Cell \u001b[0;32mIn[16], line 21\u001b[0m, in \u001b[0;36mDistance_matrix\u001b[0;34m(Theta)\u001b[0m\n\u001b[1;32m     19\u001b[0m \u001b[38;5;28;01mdef\u001b[39;00m \u001b[38;5;21mDistance_matrix\u001b[39m(Theta):\n\u001b[1;32m     20\u001b[0m     diff \u001b[38;5;241m=\u001b[39m Theta[:, np\u001b[38;5;241m.\u001b[39mnewaxis, :] \u001b[38;5;241m-\u001b[39m Theta[np\u001b[38;5;241m.\u001b[39mnewaxis, :, :]\n\u001b[0;32m---> 21\u001b[0m     D \u001b[38;5;241m=\u001b[39m np\u001b[38;5;241m.\u001b[39msum(diff\u001b[38;5;241m*\u001b[39m\u001b[38;5;241m*\u001b[39m\u001b[38;5;241m2\u001b[39m, axis\u001b[38;5;241m=\u001b[39m\u001b[38;5;241m2\u001b[39m)\n\u001b[1;32m     22\u001b[0m     \u001b[38;5;28;01mreturn\u001b[39;00m D\n",
      "File \u001b[0;32m~/CYH/ENTER/lib/python3.11/site-packages/numpy/core/fromnumeric.py:2172\u001b[0m, in \u001b[0;36m_sum_dispatcher\u001b[0;34m(a, axis, dtype, out, keepdims, initial, where)\u001b[0m\n\u001b[1;32m   2102\u001b[0m \u001b[38;5;250m    \u001b[39m\u001b[38;5;124;03m\"\"\"\u001b[39;00m\n\u001b[1;32m   2103\u001b[0m \u001b[38;5;124;03m    Clip (limit) the values in an array.\u001b[39;00m\n\u001b[1;32m   2104\u001b[0m \n\u001b[0;32m   (...)\u001b[0m\n\u001b[1;32m   2167\u001b[0m \n\u001b[1;32m   2168\u001b[0m \u001b[38;5;124;03m    \"\"\"\u001b[39;00m\n\u001b[1;32m   2169\u001b[0m     \u001b[38;5;28;01mreturn\u001b[39;00m _wrapfunc(a, \u001b[38;5;124m'\u001b[39m\u001b[38;5;124mclip\u001b[39m\u001b[38;5;124m'\u001b[39m, a_min, a_max, out\u001b[38;5;241m=\u001b[39mout, \u001b[38;5;241m*\u001b[39m\u001b[38;5;241m*\u001b[39mkwargs)\n\u001b[0;32m-> 2172\u001b[0m \u001b[38;5;28;01mdef\u001b[39;00m \u001b[38;5;21m_sum_dispatcher\u001b[39m(a, axis\u001b[38;5;241m=\u001b[39m\u001b[38;5;28;01mNone\u001b[39;00m, dtype\u001b[38;5;241m=\u001b[39m\u001b[38;5;28;01mNone\u001b[39;00m, out\u001b[38;5;241m=\u001b[39m\u001b[38;5;28;01mNone\u001b[39;00m, keepdims\u001b[38;5;241m=\u001b[39m\u001b[38;5;28;01mNone\u001b[39;00m,\n\u001b[1;32m   2173\u001b[0m                     initial\u001b[38;5;241m=\u001b[39m\u001b[38;5;28;01mNone\u001b[39;00m, where\u001b[38;5;241m=\u001b[39m\u001b[38;5;28;01mNone\u001b[39;00m):\n\u001b[1;32m   2174\u001b[0m     \u001b[38;5;28;01mreturn\u001b[39;00m (a, out)\n\u001b[1;32m   2177\u001b[0m \u001b[38;5;129m@array_function_dispatch\u001b[39m(_sum_dispatcher)\n\u001b[1;32m   2178\u001b[0m \u001b[38;5;28;01mdef\u001b[39;00m \u001b[38;5;21msum\u001b[39m(a, axis\u001b[38;5;241m=\u001b[39m\u001b[38;5;28;01mNone\u001b[39;00m, dtype\u001b[38;5;241m=\u001b[39m\u001b[38;5;28;01mNone\u001b[39;00m, out\u001b[38;5;241m=\u001b[39m\u001b[38;5;28;01mNone\u001b[39;00m, keepdims\u001b[38;5;241m=\u001b[39mnp\u001b[38;5;241m.\u001b[39m_NoValue,\n\u001b[1;32m   2179\u001b[0m         initial\u001b[38;5;241m=\u001b[39mnp\u001b[38;5;241m.\u001b[39m_NoValue, where\u001b[38;5;241m=\u001b[39mnp\u001b[38;5;241m.\u001b[39m_NoValue):\n",
      "\u001b[0;31mKeyboardInterrupt\u001b[0m: "
     ]
    }
   ],
   "source": [
    "def calculate_sandwich(base_path):\n",
    "    A = np.load(f'{base_path}/adjacency_matrix.npy')\n",
    "    pred_theta = np.load(f'{base_path}/pred_theta.npy')\n",
    "    true_theta = np.load(f'{base_path}/true_theta.npy')\n",
    "    \n",
    "    Q = find_optimal_rotation_matrix(true_theta, pred_theta)\n",
    "    pred_theta = pred_theta @ Q.T\n",
    "\n",
    "    M = generate_M_matrix(pred_theta)\n",
    "\n",
    "    sigma_hat = compute_sigma_hat(0, M, pred_theta)\n",
    "    omega_hat = compute_omega_hat(0, M, pred_theta, A)\n",
    "    a = np.linalg.inv(sigma_hat)\n",
    "    sandwich = a @ omega_hat @ a\n",
    "    sandwich = sandwich/pred_theta.shape[0]\n",
    "\n",
    "    return sandwich[0][0], pred_theta[0][0], true_theta[0][0]\n",
    "\n",
    "def check_confidence_interval(base_path):\n",
    "    var_estimate, pred_estimate, true_value = calculate_sandwich(base_path)\n",
    "    standard_error = np.sqrt(var_estimate)\n",
    "    \n",
    "    z_score = norm.ppf(0.975)\n",
    "    lower_bound = pred_estimate - z_score * standard_error\n",
    "    upper_bound = pred_estimate + z_score * standard_error\n",
    "    \n",
    "    is_within_interval = lower_bound <= true_value <= upper_bound\n",
    "    \n",
    "    return is_within_interval\n",
    "\n",
    "# coverage rates \n",
    "base_folder = r'/home/user/CYH/Code_For_MDS/Project/para_result/parameter estimation/distance1/Binomial/Simulation10000_2_1.0relative_1e-08'\n",
    "n_values = sorted([int(i.split('_')[-1]) for i in os.listdir(base_folder) if i.startswith('n_')])\n",
    "coverage_dict = {}\n",
    "\n",
    "for number in n_values:\n",
    "    path = os.path.join(base_folder, f'n_{number}')\n",
    "    __ = 0\n",
    "    for _ in range(len(os.listdir(path))):\n",
    "        if check_confidence_interval(path+f'/{_+1}'):\n",
    "            __ += 1\n",
    "    coverage_dict[number] = __/len(os.listdir(path))\n",
    "    \n",
    "coverage_dict"
   ]
  }
 ],
 "metadata": {
  "kernelspec": {
   "display_name": "base",
   "language": "python",
   "name": "python3"
  },
  "language_info": {
   "codemirror_mode": {
    "name": "ipython",
    "version": 3
   },
   "file_extension": ".py",
   "mimetype": "text/x-python",
   "name": "python",
   "nbconvert_exporter": "python",
   "pygments_lexer": "ipython3",
   "version": "3.11.7"
  }
 },
 "nbformat": 4,
 "nbformat_minor": 2
}
